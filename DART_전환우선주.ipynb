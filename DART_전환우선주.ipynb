{
 "cells": [
  {
   "cell_type": "markdown",
   "id": "030511a6",
   "metadata": {},
   "source": [
    "### 0. 라이브러리"
   ]
  },
  {
   "cell_type": "code",
   "execution_count": 1,
   "id": "bbc75355",
   "metadata": {},
   "outputs": [],
   "source": [
    "import requests\n",
    "import pandas as pd\n",
    "from bs4 import BeautifulSoup\n",
    "import xml.etree.ElementTree as ET\n",
    "from selenium import webdriver\n",
    "from selenium.webdriver.common.by import By\n",
    "from selenium.webdriver.support import expected_conditions as EC\n",
    "from selenium.webdriver.support.ui import WebDriverWait as wait\n",
    "from selenium.webdriver.chrome.options import Options\n",
    "from selenium.webdriver.chrome.service import Service\n",
    "from webdriver_manager.chrome import ChromeDriverManager\n",
    "import warnings\n",
    "import pickle\n",
    "import zipfile\n",
    "from io import BytesIO\n",
    "\n",
    "warnings.filterwarnings(action='ignore')\n",
    "API_KEY = 'd7d1be298b9cac1558eab570011f2bb40e2a6825'\n",
    "\n",
    "headers= {'user-agent': 'Mozilla/5.0 (Windows NT 10.0; Win64; x64) AppleWebKit/537.36 (KHTML, like Gecko) Chrome/103.0.0.0 Safari/537.36',\n",
    "          'Accept-Encoding': '*', 'Connection': 'keep-alive'}\n",
    "\n",
    "options = Options()\n",
    "options.add_argument('--disable-gpu')\n",
    "options.add_argument('--headless')"
   ]
  },
  {
   "cell_type": "markdown",
   "id": "c9d1614f",
   "metadata": {},
   "source": [
    "### 1. 데이터 추출 함수 세팅"
   ]
  },
  {
   "cell_type": "code",
   "execution_count": 2,
   "id": "e4a42bfb",
   "metadata": {},
   "outputs": [],
   "source": [
    "def get_driver():\n",
    "    return webdriver.Chrome(service=Service(ChromeDriverManager().install()), options=options)"
   ]
  },
  {
   "cell_type": "code",
   "execution_count": 3,
   "id": "61abf45b",
   "metadata": {},
   "outputs": [],
   "source": [
    "# 보고서명, 일자로 검색해서 보고서 접수번호 추출\n",
    "def get_rcept_no(report_nm, bgn_de, end_de) :\n",
    "    rcept_no_list = []\n",
    "    url = 'https://opendart.fss.or.kr/api/list.xml'\n",
    "    params = {'crtfc_key': API_KEY\n",
    "              , 'bgn_de' : bgn_de\n",
    "              , 'end_de' : end_de\n",
    "              , 'pblntf_detail_ty': 'B001'\n",
    "              , 'last_reprt_at':'Y'}\n",
    "    try:\n",
    "        response = requests.get(url, params=params, headers=headers, verify=False)\n",
    "        soup = BeautifulSoup(response.content, features='html.parser')\n",
    "        total_page = soup.find('total_page').get_text()\n",
    "        \n",
    "        for i in range(1, int(total_page) + 1):\n",
    "            params = {'crtfc_key': API_KEY\n",
    "                      , 'bgn_de': bgn_de\n",
    "                      , 'end_de': end_de\n",
    "                      , 'pblntf_detail_ty': 'B001'\n",
    "                      , 'page_no': str(i)\n",
    "                      , 'last_reprt_at':'Y'}\n",
    "            response = requests.get(url, params=params, headers=headers, verify=False)\n",
    "            soup = BeautifulSoup(response.content, features='html.parser')\n",
    "            for c in soup.find_all('list'):\n",
    "                if report_nm in c.report_nm.get_text():\n",
    "                    rcept_no_list.append(c.rcept_no.get_text())\n",
    "    except Exception as e:\n",
    "        print(e)\n",
    "        rcept_no_list = []\n",
    "        \n",
    "    print('보고서명:', report_nm,', 보고서수: ', len(rcept_no_list))\n",
    "    \n",
    "    return rcept_no_list"
   ]
  },
  {
   "cell_type": "markdown",
   "id": "4cdeb283",
   "metadata": {},
   "source": [
    "##### 2020년 이전 데이터 유실 많아서 selenium 필요"
   ]
  },
  {
   "cell_type": "code",
   "execution_count": 4,
   "id": "39a93f66",
   "metadata": {},
   "outputs": [],
   "source": [
    "# options = webdriver.ChromeOptions()\n",
    "# options.add_argument('headless')\n",
    "\n",
    "# def get_cps_docu(rcept_no):\n",
    "#     print(rcept_no)\n",
    "#     driver = webdriver.Chrome('./chromedriver', chrome_options=options)\n",
    "#     url = 'https://dart.fss.or.kr/dsaf001/main.do?rcpNo='+rcept_no\n",
    "#     driver.get(url)\n",
    "#     soup = BeautifulSoup(driver.page_source, 'html.parser')\n",
    "#     company_nm = soup.select('body > div.wrapper > div > div.header > div.top > div.nameWrap > span:nth-child(2)')[0].get_text()\n",
    "#     iframe_src = driver.find_element(by=By.XPATH, value='//*[@id=\"ifrm\"]').get_attribute(\"src\")\n",
    "#     response = requests.get(iframe_src, headers=headers)\n",
    "#     soup = BeautifulSoup(response.content, features='html.parser')\n",
    "    \n",
    "#     nstk_estk = soup.select('td:-soup-contains(\"기타주식 (주)\")') # 기타주식(주) 위치 찾기\n",
    "#     if not nstk_estk:\n",
    "#         row = {}\n",
    "#     else:\n",
    "#         nstk_estk_cnt = nstk_estk[0].next_sibling.next_sibling.get_text()  # 신주의 종류와 수\n",
    "    \n",
    "#         if nstk_estk_cnt.strip() in ('-', '0') :\n",
    "#             row = {}\n",
    "#         else:\n",
    "#             rcept_dt = rcept_no[:8]\n",
    "#             tbody1 = nstk_estk[0].parent.parent\n",
    "#             fv_ps = tbody1.select('tr:nth-child(3) > td:nth-child(2)')[0].get_text() # 1주당 액면가액\n",
    "#             ic_mthn = soup.select('td:-soup-contains(\"증자방식\")')[0].next_sibling.next_sibling.get_text() # 증자방식\n",
    "#             try:\n",
    "#                 cvt = soup.select('td:-soup-contains(\"전환에 관한 사항\")')[0].parent\n",
    "#                 cvt_cdt = cvt.select('td:nth-child(3)')[0].get_text() # 전환조건\n",
    "#                 temp_list = []\n",
    "#                 for i in range(5):\n",
    "#                     cvt = cvt.next_sibling.next_sibling\n",
    "#                     temp_list.append(cvt.select('td:nth-child(2)')[0].get_text())\n",
    "#                 cvt_prd = temp_list[0] # 전환청구기간\n",
    "#                 cvt_knd = temp_list[1] # 전환주식종류\n",
    "#                 cvt_cnt = temp_list[2] # 전환주식수\n",
    "#                 vtr_info = temp_list[3] # 의결권\n",
    "#                 dvd_info = temp_list[4] # 이익배당\n",
    "#             except:\n",
    "#                 cvt_cdt = '-'\n",
    "#                 cvt_prd = '-'\n",
    "#                 cvt_knd = '-'\n",
    "#                 cvt_cnt = '-'\n",
    "#                 vtr_info = soup.select('td:-soup-contains(\"의결권에 관한 사항\")')[0].next_sibling.next_sibling.get_text()\n",
    "#                 dvd_info = soup.select('td:-soup-contains(\"이익배당에 관한 사항\")')[0].next_sibling.next_sibling.get_text()\n",
    "#             pst_std_val = soup.select('td:-soup-contains(\"기타주식 (원)\")')[0].next_sibling.next_sibling.get_text() # 신주발행가액\n",
    "#             dc_rate = soup.select('td:-soup-contains(\"기준주가에 대한 할인율 또는 할증율\")')[0].next_sibling.next_sibling.get_text() # 할인율 또는 할증율\n",
    "\n",
    "#             row = {'발행사':company_nm, '공시일':rcept_dt, '신주의 종류와 수':nstk_estk_cnt, '1주당 액면가액':fv_ps, '증자방식': ic_mthn,\n",
    "#                   '전환조건':cvt_cdt, '전환청구기간':cvt_prd, '전환주식종류': cvt_knd, '전환주식수': cvt_cnt, '의결권':vtr_info, '이익배당': dvd_info,\n",
    "#                   '신주발행가액': pst_std_val, '할인율 또는 할증율(%)': dc_rate}\n",
    "\n",
    "#     return row"
   ]
  },
  {
   "cell_type": "code",
   "execution_count": null,
   "id": "8580f923",
   "metadata": {},
   "outputs": [],
   "source": [
    "driver = get_driver()"
   ]
  },
  {
   "cell_type": "code",
   "execution_count": 7,
   "id": "a9d67556",
   "metadata": {},
   "outputs": [],
   "source": [
    "def get_cps_docu(rcept_no):\n",
    "    print(rcept_no)\n",
    "#     driver = get_driver()\n",
    "    url = 'https://dart.fss.or.kr/dsaf001/main.do?rcpNo='+rcept_no\n",
    "    driver.get(url)\n",
    "    driver.implicitly_wait(3)\n",
    "    soup = BeautifulSoup(driver.page_source, 'html.parser')\n",
    "    company_nm = soup.select('body > div.wrapper > div > div.header > div.top > div.nameWrap > span:nth-child(2)')[0].get_text()\n",
    "    iframe_src = driver.find_element(by=By.XPATH, value='//*[@id=\"ifrm\"]').get_attribute(\"src\")\n",
    "    response = requests.get(iframe_src, headers=headers)\n",
    "    soup = BeautifulSoup(response.content, features='html.parser')\n",
    "    \n",
    "    nstk_estk = soup.select('td:-soup-contains(\"기타주식 (주)\")') # 기타주식(주) 위치 찾기\n",
    "    if not nstk_estk:\n",
    "        row = {}\n",
    "    else:\n",
    "        nstk_estk_cnt = nstk_estk[0].next_sibling.next_sibling.get_text()  # 신주의 종류와 수\n",
    "    \n",
    "        if nstk_estk_cnt.strip() in ('-', '0') :\n",
    "            row = {}\n",
    "        else:\n",
    "            rcept_dt = rcept_no[:8]\n",
    "            tbody1 = nstk_estk[0].parent.parent\n",
    "            fv_ps = tbody1.select('tr:nth-child(3) > td:nth-child(2)')[0].get_text() # 1주당 액면가액\n",
    "            ic_mthn = soup.select('td:-soup-contains(\"증자방식\")')[0].next_sibling.next_sibling.get_text() # 증자방식\n",
    "            try:\n",
    "                cvt = soup.select('td:-soup-contains(\"전환에 관한 사항\")')[0].parent\n",
    "                cvt_cdt = cvt.select('td:nth-child(3)')[0].get_text() # 전환조건\n",
    "                temp_list = []\n",
    "                for i in range(5):\n",
    "                    cvt = cvt.next_sibling.next_sibling\n",
    "                    temp_list.append(cvt.select('td:nth-child(2)')[0].get_text())\n",
    "                cvt_prd = temp_list[0] # 전환청구기간\n",
    "                cvt_knd = temp_list[1] # 전환주식종류\n",
    "                cvt_cnt = temp_list[2] # 전환주식수\n",
    "            except:\n",
    "                cvt_cdt = '-'\n",
    "                cvt_prd = '-'\n",
    "                cvt_knd = '-'\n",
    "                cvt_cnt = '-'\n",
    "            try:\n",
    "                vtr_info = soup.select('td:-soup-contains(\"의결권에 관한 사항\")')[0].next_sibling.next_sibling.get_text()\n",
    "                dvd_info = soup.select('td:-soup-contains(\"이익배당에 관한 사항\")')[0].next_sibling.next_sibling.get_text()\n",
    "            except:\n",
    "                vtr_info = '-'\n",
    "                dvd_info = '-'\n",
    "            pst_std_val = soup.select('td:-soup-contains(\"기타주식 (원)\")')[0].next_sibling.next_sibling.get_text() # 신주발행가액\n",
    "            dc_rate = soup.select('td:-soup-contains(\"기준주가에 대한 할인율 또는 할증율\")')[0].next_sibling.next_sibling.get_text() # 할인율 또는 할증율\n",
    "\n",
    "            row = {'발행사':company_nm, '공시일':rcept_dt, '신주의 종류와 수':nstk_estk_cnt, '1주당 액면가액':fv_ps, '증자방식': ic_mthn,\n",
    "                  '전환조건':cvt_cdt, '전환청구기간':cvt_prd, '전환주식종류': cvt_knd, '전환주식수': cvt_cnt, \n",
    "                  '의결권':vtr_info, '이익배당': dvd_info, '신주발행가액': pst_std_val, '할인율 또는 할증율(%)': dc_rate}\n",
    "\n",
    "    return row"
   ]
  },
  {
   "cell_type": "markdown",
   "id": "5d69ac09",
   "metadata": {},
   "source": [
    "### 2. 보고서명, 일자로 검색 후 추출 - 보고서 원문 이용"
   ]
  },
  {
   "cell_type": "code",
   "execution_count": 5,
   "id": "eb4c9e3c",
   "metadata": {},
   "outputs": [],
   "source": [
    "# 최대 조회 가능 기간 3개월\n",
    "bgn_de = '20150101'\n",
    "end_de = '20150331'"
   ]
  },
  {
   "cell_type": "code",
   "execution_count": 6,
   "id": "cf12dac2",
   "metadata": {
    "scrolled": true
   },
   "outputs": [
    {
     "name": "stdout",
     "output_type": "stream",
     "text": [
      "보고서명: 주요사항보고서(유상증자결정) , 보고서수:  105\n"
     ]
    }
   ],
   "source": [
    "# 보고서 접수번호 추출\n",
    "rcept_name = '주요사항보고서(유상증자결정)'\n",
    "rcept_no_list = []\n",
    "rcept_no_list.extend(get_rcept_no(rcept_name, bgn_de, end_de))"
   ]
  },
  {
   "cell_type": "code",
   "execution_count": 8,
   "id": "93f307f9",
   "metadata": {
    "scrolled": true
   },
   "outputs": [
    {
     "name": "stdout",
     "output_type": "stream",
     "text": [
      "20150330001574\n"
     ]
    },
    {
     "ename": "IndexError",
     "evalue": "list index out of range",
     "output_type": "error",
     "traceback": [
      "\u001b[1;31m---------------------------------------------------------------------------\u001b[0m",
      "\u001b[1;31mIndexError\u001b[0m                                Traceback (most recent call last)",
      "Input \u001b[1;32mIn [8]\u001b[0m, in \u001b[0;36m<cell line: 3>\u001b[1;34m()\u001b[0m\n\u001b[0;32m      2\u001b[0m rows \u001b[38;5;241m=\u001b[39m []\n\u001b[0;32m      3\u001b[0m \u001b[38;5;28;01mfor\u001b[39;00m rcept \u001b[38;5;129;01min\u001b[39;00m rcept_no_list:\n\u001b[1;32m----> 4\u001b[0m     row \u001b[38;5;241m=\u001b[39m \u001b[43mget_cps_docu\u001b[49m\u001b[43m(\u001b[49m\u001b[43mrcept\u001b[49m\u001b[43m)\u001b[49m\n\u001b[0;32m      5\u001b[0m     rows\u001b[38;5;241m.\u001b[39mappend(row)\n\u001b[0;32m      7\u001b[0m df \u001b[38;5;241m=\u001b[39m pd\u001b[38;5;241m.\u001b[39mDataFrame(rows)\n",
      "Input \u001b[1;32mIn [7]\u001b[0m, in \u001b[0;36mget_cps_docu\u001b[1;34m(rcept_no)\u001b[0m\n\u001b[0;32m      6\u001b[0m driver\u001b[38;5;241m.\u001b[39mimplicitly_wait(\u001b[38;5;241m3\u001b[39m)\n\u001b[0;32m      7\u001b[0m soup \u001b[38;5;241m=\u001b[39m BeautifulSoup(driver\u001b[38;5;241m.\u001b[39mpage_source, \u001b[38;5;124m'\u001b[39m\u001b[38;5;124mhtml.parser\u001b[39m\u001b[38;5;124m'\u001b[39m)\n\u001b[1;32m----> 8\u001b[0m company_nm \u001b[38;5;241m=\u001b[39m \u001b[43msoup\u001b[49m\u001b[38;5;241;43m.\u001b[39;49m\u001b[43mselect\u001b[49m\u001b[43m(\u001b[49m\u001b[38;5;124;43m'\u001b[39;49m\u001b[38;5;124;43mbody > div.wrapper > div > div.header > div.top > div.nameWrap > span:nth-child(2)\u001b[39;49m\u001b[38;5;124;43m'\u001b[39;49m\u001b[43m)\u001b[49m\u001b[43m[\u001b[49m\u001b[38;5;241;43m0\u001b[39;49m\u001b[43m]\u001b[49m\u001b[38;5;241m.\u001b[39mget_text()\n\u001b[0;32m      9\u001b[0m iframe_src \u001b[38;5;241m=\u001b[39m driver\u001b[38;5;241m.\u001b[39mfind_element(by\u001b[38;5;241m=\u001b[39mBy\u001b[38;5;241m.\u001b[39mXPATH, value\u001b[38;5;241m=\u001b[39m\u001b[38;5;124m'\u001b[39m\u001b[38;5;124m//*[@id=\u001b[39m\u001b[38;5;124m\"\u001b[39m\u001b[38;5;124mifrm\u001b[39m\u001b[38;5;124m\"\u001b[39m\u001b[38;5;124m]\u001b[39m\u001b[38;5;124m'\u001b[39m)\u001b[38;5;241m.\u001b[39mget_attribute(\u001b[38;5;124m\"\u001b[39m\u001b[38;5;124msrc\u001b[39m\u001b[38;5;124m\"\u001b[39m)\n\u001b[0;32m     10\u001b[0m response \u001b[38;5;241m=\u001b[39m requests\u001b[38;5;241m.\u001b[39mget(iframe_src, headers\u001b[38;5;241m=\u001b[39mheaders)\n",
      "\u001b[1;31mIndexError\u001b[0m: list index out of range"
     ]
    }
   ],
   "source": [
    "# 보고서 접수번호별 세부정보 추출\n",
    "rows = []\n",
    "for rcept in rcept_no_list:\n",
    "    row = get_cps_docu(rcept)\n",
    "    rows.append(row)\n",
    "\n",
    "df = pd.DataFrame(rows)\n",
    "df = df.dropna(subset=['발행사'])\n",
    "df.head()"
   ]
  },
  {
   "cell_type": "code",
   "execution_count": 19,
   "id": "7dbe4307",
   "metadata": {},
   "outputs": [],
   "source": [
    "# df.shape"
   ]
  },
  {
   "cell_type": "code",
   "execution_count": null,
   "id": "56239279",
   "metadata": {},
   "outputs": [],
   "source": []
  },
  {
   "cell_type": "code",
   "execution_count": null,
   "id": "6755423e",
   "metadata": {},
   "outputs": [],
   "source": []
  }
 ],
 "metadata": {
  "kernelspec": {
   "display_name": "Python 3 (ipykernel)",
   "language": "python",
   "name": "python3"
  },
  "language_info": {
   "codemirror_mode": {
    "name": "ipython",
    "version": 3
   },
   "file_extension": ".py",
   "mimetype": "text/x-python",
   "name": "python",
   "nbconvert_exporter": "python",
   "pygments_lexer": "ipython3",
   "version": "3.8.9"
  }
 },
 "nbformat": 4,
 "nbformat_minor": 5
}
